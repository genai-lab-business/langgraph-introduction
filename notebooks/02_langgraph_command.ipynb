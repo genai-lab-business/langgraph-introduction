{
  "nbformat": 4,
  "nbformat_minor": 0,
  "metadata": {
    "colab": {
      "provenance": [],
      "collapsed_sections": [
        "UwwpnhxbyLmB"
      ],
      "toc_visible": true
    },
    "kernelspec": {
      "name": "python3",
      "display_name": "Python 3"
    },
    "language_info": {
      "name": "python"
    }
  },
  "cells": [
    {
      "cell_type": "markdown",
      "source": [
        "# LangGraph Command & Edgeless Graphs: Dynamic Multi-Agent Workflows"
      ],
      "metadata": {
        "id": "2mDXHmxnxnTF"
      }
    },
    {
      "cell_type": "markdown",
      "source": [
        "This notebook explores LangGraph's **Command** feature for building dynamic, edgeless workflows where nodes can decide which node to execute next at runtime."
      ],
      "metadata": {
        "id": "nH7ciTbcxwHN"
      }
    },
    {
      "cell_type": "markdown",
      "source": [
        "## What You'll Learn\n",
        "1. **Command Type:** Using LangGraph's Command to control dynamic routing\n",
        "2. **Edgeless Graphs:** Building workflows without predefined edges\n",
        "3. **Multi-Agent Handoffs:** Dynamic agent-to-agent communication\n",
        "4. **Hierarchical Agents:** Parent-child agent architectures\n",
        "5. **Dynamic Routing:** Runtime decision making for workflow paths"
      ],
      "metadata": {
        "id": "PrmrrE8fxxse"
      }
    },
    {
      "cell_type": "markdown",
      "source": [
        "## Setup and Installation\n",
        "\n",
        "First, let's install the required packages and set up our environment."
      ],
      "metadata": {
        "id": "kNr3UyRpx1bj"
      }
    },
    {
      "cell_type": "code",
      "source": [
        "# Install required packages\n",
        "!pip install langgraph langchain-openai python-dotenv"
      ],
      "metadata": {
        "id": "P556uzgLx7-j"
      },
      "execution_count": null,
      "outputs": []
    },
    {
      "cell_type": "code",
      "source": [
        "import os\n",
        "from dotenv import load_dotenv\n",
        "from typing import Dict, Any, List, Annotated, Literal\n",
        "from typing_extensions import TypedDict\n",
        "\n",
        "# LangGraph imports - Command is the key feature\n",
        "from langgraph.graph import StateGraph, START, END\n",
        "from langgraph.types import Command\n",
        "from langgraph.graph.message import add_messages\n",
        "from langgraph.prebuilt import create_react_agent\n",
        "\n",
        "# LangChain imports\n",
        "from langchain_openai import ChatOpenAI\n",
        "from langchain_core.messages import HumanMessage, AIMessage, BaseMessage\n",
        "from langchain_core.prompts import ChatPromptTemplate\n",
        "from langchain_core.tools import tool\n",
        "\n",
        "# Load environment variables\n",
        "load_dotenv()\n",
        "\n",
        "print(\"✅ Libraries imported successfully!\")"
      ],
      "metadata": {
        "colab": {
          "base_uri": "https://localhost:8080/"
        },
        "id": "DiI2BdgfxrFM",
        "outputId": "52c501d8-462b-487a-e1a0-6e14c0b6d8c0"
      },
      "execution_count": 5,
      "outputs": [
        {
          "output_type": "stream",
          "name": "stdout",
          "text": [
            "✅ Libraries imported successfully!\n"
          ]
        }
      ]
    },
    {
      "cell_type": "markdown",
      "source": [
        "## Configure OpenAI API\n",
        "\n",
        "Make sure you have your OpenAI API key set up in your `.env` file or as an environment variable."
      ],
      "metadata": {
        "id": "LWI-580DyCJ1"
      }
    },
    {
      "cell_type": "code",
      "source": [
        "# Initialize OpenAI model\n",
        "llm = ChatOpenAI(\n",
        "    model=\"gpt-4o-mini\",\n",
        "    temperature=0.1,\n",
        "    api_key=os.getenv(\"OPENAI_API_KEY\")\n",
        ")\n",
        "\n",
        "# Test the connection\n",
        "try:\n",
        "    test_response = llm.invoke(\"Say 'Ready for LangGraph Command patterns!'\")\n",
        "    print(f\"✅ OpenAI connection successful: {test_response.content}\")\n",
        "except Exception as e:\n",
        "    print(f\"❌ OpenAI connection failed: {e}\")\n",
        "    print(\"Please check your API key in the .env file\")"
      ],
      "metadata": {
        "colab": {
          "base_uri": "https://localhost:8080/"
        },
        "id": "UF2kR392yC61",
        "outputId": "744df03d-acd1-42b5-c499-47030d70119d"
      },
      "execution_count": 6,
      "outputs": [
        {
          "output_type": "stream",
          "name": "stdout",
          "text": [
            "✅ OpenAI connection successful: Ready for LangGraph Command patterns!\n"
          ]
        }
      ]
    },
    {
      "cell_type": "markdown",
      "source": [
        "## 1. Understanding LangGraph Command\n",
        "\n",
        "The Command type allows nodes to specify both:\n",
        "\n",
        "1. **State updates** (like normal)\n",
        "2. **Next node to execute** (the new capability)"
      ],
      "metadata": {
        "id": "UwwpnhxbyLmB"
      }
    },
    {
      "cell_type": "markdown",
      "source": [
        "**Basic Command Syntax**"
      ],
      "metadata": {
        "id": "TMDCsUzlMGzQ"
      }
    },
    {
      "cell_type": "code",
      "source": [
        "from langgraph.types import Command\n",
        "\n",
        "# Basic state for our examples\n",
        "class BasicState(TypedDict):\n",
        "    messages: Annotated[List[BaseMessage], add_messages]\n",
        "    current_task: str\n",
        "    completed_tasks: List[str]\n",
        "    user_input: str\n",
        "\n",
        "# Example of a node that uses Command to control flow\n",
        "def router_node(state: BasicState) -> Command[Literal[\"analyzer\", \"writer\", \"reviewer\", END]]:\n",
        "    \"\"\"Node that decides which specialist to route to next\"\"\"\n",
        "\n",
        "    user_input = state[\"user_input\"]\n",
        "    completed = state.get(\"completed_tasks\", [])\n",
        "\n",
        "    # Determine next action based on input and completed tasks\n",
        "    if \"analyze\" in user_input.lower() and \"analysis\" not in completed:\n",
        "        next_node = \"analyzer\"\n",
        "        task = \"text_analysis\"\n",
        "    elif \"write\" in user_input.lower() and \"writing\" not in completed:\n",
        "        next_node = \"writer\"\n",
        "        task = \"content_writing\"\n",
        "    elif \"review\" in user_input.lower() and \"review\" not in completed:\n",
        "        next_node = \"reviewer\"\n",
        "        task = \"content_review\"\n",
        "    else:\n",
        "        # All tasks done or no clear direction\n",
        "        next_node = END\n",
        "        task = \"completed\"\n",
        "\n",
        "    return Command(\n",
        "        goto=next_node,\n",
        "        update={\n",
        "            \"current_task\": task,\n",
        "            \"messages\": [AIMessage(content=f\"Routing to: {next_node}\")]\n",
        "        }\n",
        "    )\n",
        "\n",
        "print(\"✅ Basic Command example defined!\")"
      ],
      "metadata": {
        "id": "hoZB7136yMEU"
      },
      "execution_count": null,
      "outputs": []
    },
    {
      "cell_type": "markdown",
      "source": [
        "**Specialist Agent Nodes**"
      ],
      "metadata": {
        "id": "KbR2b6uPMPKa"
      }
    },
    {
      "cell_type": "code",
      "source": [
        "def analyzer_node(state: BasicState) -> Command[Literal[\"writer\", \"reviewer\", END]]:\n",
        "    \"\"\"Analyzes text and decides what to do next\"\"\"\n",
        "\n",
        "    prompt = ChatPromptTemplate.from_template(\n",
        "        \"Analyze the following text and provide insights:\\n\\n{text}\\n\\n\"\n",
        "        \"Focus on: tone, key themes, structure, and audience.\"\n",
        "    )\n",
        "\n",
        "    chain = prompt | llm\n",
        "    result = chain.invoke({\"text\": state[\"user_input\"]})\n",
        "\n",
        "    completed = state.get(\"completed_tasks\", []) + [\"analysis\"]\n",
        "\n",
        "    # Decide next step based on analysis\n",
        "    if \"write\" in state[\"user_input\"].lower():\n",
        "        next_node = \"writer\"\n",
        "    elif len(completed) >= 2:  # If we've done multiple tasks\n",
        "        next_node = END\n",
        "    else:\n",
        "        next_node = \"reviewer\"\n",
        "\n",
        "    return Command(\n",
        "        goto=next_node,\n",
        "        update={\n",
        "            \"messages\": [AIMessage(content=f\"Analysis complete: {result.content}\")],\n",
        "            \"completed_tasks\": completed,\n",
        "            \"current_task\": \"analysis_done\"\n",
        "        }\n",
        "    )\n",
        "\n",
        "def writer_node(state: BasicState) -> Command[Literal[\"analyzer\", \"reviewer\", END]]:\n",
        "    \"\"\"Writes content and decides next action\"\"\"\n",
        "\n",
        "    # Check if we have analysis to work with\n",
        "    analysis_available = any(\"Analysis\" in msg.content for msg in state.get(\"messages\", []) if isinstance(msg, AIMessage))\n",
        "\n",
        "    if analysis_available:\n",
        "        prompt = ChatPromptTemplate.from_template(\n",
        "            \"Based on the previous analysis, write engaging content about:\\n{topic}\\n\\n\"\n",
        "            \"Make it informative and well-structured.\"\n",
        "        )\n",
        "    else:\n",
        "        prompt = ChatPromptTemplate.from_template(\n",
        "            \"Write engaging content about:\\n{topic}\\n\\n\"\n",
        "            \"Make it informative and well-structured.\"\n",
        "        )\n",
        "\n",
        "    chain = prompt | llm\n",
        "    result = chain.invoke({\"topic\": state[\"user_input\"]})\n",
        "\n",
        "    completed = state.get(\"completed_tasks\", []) + [\"writing\"]\n",
        "\n",
        "    # Always go to reviewer after writing\n",
        "    return Command(\n",
        "        goto=\"reviewer\",\n",
        "        update={\n",
        "            \"messages\": [AIMessage(content=f\"Content written: {result.content}\")],\n",
        "            \"completed_tasks\": completed,\n",
        "            \"current_task\": \"writing_done\"\n",
        "        }\n",
        "    )\n",
        "\n",
        "def reviewer_node(state: BasicState) -> Command[Literal[\"writer\", \"analyzer\", END]]:\n",
        "    \"\"\"Reviews content and decides if revision is needed\"\"\"\n",
        "\n",
        "    # Get the last written content\n",
        "    last_content = \"\"\n",
        "    for msg in reversed(state.get(\"messages\", [])):\n",
        "        if isinstance(msg, AIMessage) and \"Content written:\" in msg.content:\n",
        "            last_content = msg.content.replace(\"Content written: \", \"\")\n",
        "            break\n",
        "\n",
        "    if not last_content:\n",
        "        # No content to review, redirect to writer\n",
        "        return Command(\n",
        "            goto=\"writer\",\n",
        "            update={\n",
        "                \"messages\": [AIMessage(content=\"No content found to review. Redirecting to writer.\")],\n",
        "                \"current_task\": \"redirect_to_writer\"\n",
        "            }\n",
        "        )\n",
        "\n",
        "    prompt = ChatPromptTemplate.from_template(\n",
        "        \"Review the following content for quality, clarity, and completeness:\\n\\n{content}\\n\\n\"\n",
        "        \"Provide feedback and rate from 1-10. If score is below 7, suggest improvements.\"\n",
        "    )\n",
        "\n",
        "    chain = prompt | llm\n",
        "    result = chain.invoke({\"content\": last_content})\n",
        "\n",
        "    completed = state.get(\"completed_tasks\", []) + [\"review\"]\n",
        "\n",
        "    # Simple logic: if \"improve\" or low score in review, go back to writer\n",
        "    if \"improve\" in result.content.lower() or any(str(i) in result.content for i in range(1, 7)):\n",
        "        next_node = \"writer\"\n",
        "        task = \"revision_needed\"\n",
        "    else:\n",
        "        next_node = END\n",
        "        task = \"review_complete\"\n",
        "\n",
        "    return Command(\n",
        "        goto=next_node,\n",
        "        update={\n",
        "            \"messages\": [AIMessage(content=f\"Review complete: {result.content}\")],\n",
        "            \"completed_tasks\": completed,\n",
        "            \"current_task\": task\n",
        "        }\n",
        "    )\n",
        "\n",
        "print(\"✅ Specialist agent nodes with Command routing defined!\")"
      ],
      "metadata": {
        "id": "MtgSXCV3MSR4"
      },
      "execution_count": null,
      "outputs": []
    },
    {
      "cell_type": "markdown",
      "source": [
        "**Creating the Edgeless Graph**"
      ],
      "metadata": {
        "id": "B2G4T0u_MXUA"
      }
    },
    {
      "cell_type": "code",
      "source": [
        "def create_edgeless_workflow():\n",
        "    \"\"\"Create an edgeless workflow using Command for dynamic routing\"\"\"\n",
        "\n",
        "    workflow = StateGraph(BasicState)\n",
        "\n",
        "    # Add all nodes\n",
        "    workflow.add_node(\"router\", router_node)\n",
        "    workflow.add_node(\"analyzer\", analyzer_node)\n",
        "    workflow.add_node(\"writer\", writer_node)\n",
        "    workflow.add_node(\"reviewer\", reviewer_node)\n",
        "\n",
        "    # Only define the entry point - all other routing is handled by Command!\n",
        "    workflow.add_edge(START, \"router\")\n",
        "\n",
        "    return workflow.compile()\n",
        "\n",
        "edgeless_app = create_edgeless_workflow()\n",
        "print(\"✅ Edgeless workflow created with Command routing!\")"
      ],
      "metadata": {
        "id": "5-KHuukRMZDu"
      },
      "execution_count": null,
      "outputs": []
    },
    {
      "cell_type": "markdown",
      "source": [
        "**Testing the Edgeless Workflow**"
      ],
      "metadata": {
        "id": "LV-saF-KMb0i"
      }
    },
    {
      "cell_type": "code",
      "source": [
        "# Test 1: Request analysis and writing\n",
        "print(\"🧪 Test 1: Analysis + Writing Request\")\n",
        "print(\"=\" * 50)\n",
        "\n",
        "user_input = \"Please analyze this text about AI in healthcare and then write a summary: AI is revolutionizing medical diagnosis through machine learning algorithms.\"\n",
        "\n",
        "try:\n",
        "    result = edgeless_app.invoke({\n",
        "        \"user_input\": user_input,\n",
        "        \"messages\": [HumanMessage(content=user_input)]\n",
        "    })\n",
        "\n",
        "    print(f\"📊 Final Task: {result['current_task']}\")\n",
        "    print(f\"✅ Completed Tasks: {result['completed_tasks']}\")\n",
        "    print(\"\\n💬 Workflow Messages:\")\n",
        "    for i, msg in enumerate(result[\"messages\"], 1):\n",
        "        print(f\"{i}. {type(msg).__name__}: {msg.content[:100]}...\")\n",
        "\n",
        "    print(f\"\\n🎯 Workflow Status: {result['current_task']}\")\n",
        "\n",
        "except Exception as e:\n",
        "    print(f\"❌ Error: {e}\")"
      ],
      "metadata": {
        "id": "N2zn2eC3MfHv"
      },
      "execution_count": null,
      "outputs": []
    },
    {
      "cell_type": "code",
      "source": [
        "# Test 2: Just writing request\n",
        "print(\"\\n🧪 Test 2: Writing Only Request\")\n",
        "print(\"=\" * 50)\n",
        "\n",
        "user_input2 = \"Write an engaging article about the benefits of renewable energy\"\n",
        "\n",
        "try:\n",
        "    result2 = edgeless_app.invoke({\n",
        "        \"user_input\": user_input2,\n",
        "        \"messages\": [HumanMessage(content=user_input2)]\n",
        "    })\n",
        "\n",
        "    print(f\"📊 Final Task: {result2['current_task']}\")\n",
        "    print(f\"✅ Completed Tasks: {result2['completed_tasks']}\")\n",
        "    print(f\"\\n🎯 Total Messages Generated: {len(result2['messages'])}\")\n",
        "\n",
        "    # Show the routing decisions\n",
        "    routing_msgs = [msg.content for msg in result2[\"messages\"] if \"Routing to:\" in msg.content]\n",
        "    print(f\"🧭 Routing Decisions: {routing_msgs}\")\n",
        "\n",
        "except Exception as e:\n",
        "    print(f\"❌ Error: {e}\")"
      ],
      "metadata": {
        "id": "-8773sDoMjbx"
      },
      "execution_count": null,
      "outputs": []
    },
    {
      "cell_type": "markdown",
      "source": [
        "## 2. Multi-Agent Handoffs with Command\n",
        "\n",
        "Now let's implement proper multi-agent handoffs using Command, similar to OpenAI's Swarm pattern.\n"
      ],
      "metadata": {
        "id": "wHiIFx9A1sgv"
      }
    },
    {
      "cell_type": "markdown",
      "source": [
        "**Multi-Agent State and Tools**"
      ],
      "metadata": {
        "id": "7ULx-CuMMspX"
      }
    },
    {
      "cell_type": "code",
      "source": [
        "# Enhanced state for multi-agent system\n",
        "class MultiAgentState(TypedDict):\n",
        "    messages: Annotated[List[BaseMessage], add_messages]\n",
        "    current_agent: str\n",
        "    agent_handoffs: List[Dict[str, str]]\n",
        "    task_context: Dict[str, Any]\n",
        "    user_request: str\n",
        "    final_response: str\n",
        "\n",
        "\n",
        "print(\"✅ Multi-agent state defined!\")"
      ],
      "metadata": {
        "id": "HdGBXxvNzUtM",
        "colab": {
          "base_uri": "https://localhost:8080/"
        },
        "outputId": "a1a3bf4b-6f02-43a2-cc25-388b14639e4d"
      },
      "execution_count": 7,
      "outputs": [
        {
          "output_type": "stream",
          "name": "stdout",
          "text": [
            "✅ Multi-agent state defined!\n"
          ]
        }
      ]
    },
    {
      "cell_type": "markdown",
      "source": [
        "**Specialized Agent Nodes with Handoffs**"
      ],
      "metadata": {
        "id": "GWIXYTlkMzza"
      }
    },
    {
      "cell_type": "code",
      "source": [
        "def supervisor_agent(state: MultiAgentState) -> Command[Literal[\"research_agent\",\"communication_agent\", \"report_agent\", END]]:\n",
        "    \"\"\"LLM-based routing agent that coordinates the overall workflow\"\"\"\n",
        "\n",
        "    user_request = state[\"user_request\"]\n",
        "    context = state.get(\"task_context\", {})\n",
        "    completed_agents = [h[\"to_agent\"] for h in state.get(\"agent_handoffs\", [])]\n",
        "\n",
        "    # LLM prompt that asks it to decide the next agent based on current context\n",
        "    supervisor_prompt = ChatPromptTemplate.from_template(\"\"\"\n",
        "    You are the supervisor agent coordinating a multi-step task.\n",
        "\n",
        "    Here is the user's request:\n",
        "    {user_request}\n",
        "\n",
        "    Context from previous agents:\n",
        "    {context}\n",
        "\n",
        "    Completed agents so far: {completed_agents}\n",
        "\n",
        "    Decide which agent should handle the task next:\n",
        "    - \"research_agent\" → for finding or gathering information\n",
        "    - \"report_agent\" → for generating structured reports\n",
        "    - \"communication_agent\" → for sending final notifications\n",
        "    - \"END\" → if the task is complete\n",
        "\n",
        "    Respond with JUST the agent name.\n",
        "    \"\"\")\n",
        "\n",
        "    chain = supervisor_prompt | llm\n",
        "    result = chain.invoke({\n",
        "        \"user_request\": user_request,\n",
        "        \"context\": context,\n",
        "        \"completed_agents\": completed_agents\n",
        "    })\n",
        "\n",
        "    next_node = result.content.strip().lower()\n",
        "\n",
        "    if next_node not in {\"research_agent\", \"report_agent\", \"communication_agent\", \"end\"}:\n",
        "        next_node = \"research_agent\"\n",
        "        reason = \"Fallback: LLM returned unknown agent\"\n",
        "    elif next_node == \"end\":\n",
        "        next_node = END\n",
        "        reason = \"LLM decided the task is complete\"\n",
        "    else:\n",
        "        reason = f\"LLM routed to {next_node}\"\n",
        "\n",
        "    # Update handoffs if not ending\n",
        "    handoffs = state.get(\"agent_handoffs\", [])\n",
        "    if next_node != END:\n",
        "        handoffs.append({\n",
        "            \"from_agent\": \"supervisor\",\n",
        "            \"to_agent\": next_node,\n",
        "            \"reason\": reason\n",
        "        })\n",
        "\n",
        "    return Command(\n",
        "        goto=next_node,\n",
        "        update={\n",
        "            \"current_agent\": \"completed\" if next_node == END else next_node,\n",
        "            \"agent_handoffs\": handoffs,\n",
        "            \"messages\": [AIMessage(content=f\"Supervisor: {reason}\")]\n",
        "        }\n",
        "    )"
      ],
      "metadata": {
        "id": "yEZMzh_dM2vP"
      },
      "execution_count": 22,
      "outputs": []
    },
    {
      "cell_type": "code",
      "source": [
        "def research_agent(state: MultiAgentState) -> Command[Literal[\"supervisor_agent\"]]:\n",
        "    \"\"\"Agent that researches the user request\"\"\"\n",
        "\n",
        "    user_request = state[\"user_request\"]\n",
        "    context = state.get(\"task_context\", {})\n",
        "\n",
        "    prompt = ChatPromptTemplate.from_template(\"\"\"\n",
        "    Research the user's request and summarize your findings.\n",
        "    Request: {request}\n",
        "    \"\"\")\n",
        "\n",
        "    chain = prompt | llm\n",
        "    result = chain.invoke({\"request\": user_request})\n",
        "    findings = result.content.strip()\n",
        "\n",
        "    updated_context = context.copy()\n",
        "    updated_context[\"research_findings\"] = findings\n",
        "\n",
        "    return Command(\n",
        "        goto=\"supervisor_agent\",\n",
        "        update={\n",
        "            \"task_context\": updated_context,\n",
        "            \"messages\": [AIMessage(content=f\"Research Agent:\\n{findings}\")],\n",
        "            \"current_agent\": \"supervisor_agent\"\n",
        "        }\n",
        "    )"
      ],
      "metadata": {
        "id": "7fHvL9Daui08"
      },
      "execution_count": 26,
      "outputs": []
    },
    {
      "cell_type": "code",
      "source": [
        "def report_agent(state: MultiAgentState) -> Command[Literal[\"supervisor_agent\"]]:\n",
        "    \"\"\"Agent that creates a report from research findings\"\"\"\n",
        "\n",
        "    context = state.get(\"task_context\", {})\n",
        "    research = context.get(\"research_findings\", \"\")\n",
        "\n",
        "    prompt = ChatPromptTemplate.from_template(\"\"\"\n",
        "    Write a structured Markdown report based on the following research:\n",
        "    {research}\n",
        "    \"\"\")\n",
        "\n",
        "    chain = prompt | llm\n",
        "    result = chain.invoke({\"research\": research})\n",
        "    report = result.content.strip()\n",
        "\n",
        "    updated_context = context.copy()\n",
        "    updated_context[\"generated_report\"] = report\n",
        "\n",
        "    return Command(\n",
        "        goto=\"supervisor_agent\",\n",
        "        update={\n",
        "            \"task_context\": updated_context,\n",
        "            \"messages\": [AIMessage(content=f\"Report Agent:\\n{report[:500]}...\")],\n",
        "            \"current_agent\": \"supervisor_agent\"\n",
        "        }\n",
        "    )"
      ],
      "metadata": {
        "id": "OYWTu64xvUBp"
      },
      "execution_count": 27,
      "outputs": []
    },
    {
      "cell_type": "code",
      "source": [
        "import requests\n",
        "\n",
        "def send_notification(payload: dict) -> str:\n",
        "    webhook_url = \"https://hooks.slack.com/services/...\"  # replace with your real webhook\n",
        "    message = payload.get(\"message\", \"No message provided\")\n",
        "\n",
        "    response = requests.post(webhook_url, json={\"text\": message})\n",
        "    if response.status_code == 200:\n",
        "        return \"✅ Slack message sent\"\n",
        "    else:\n",
        "        return f\"❌ Slack error: {response.status_code} - {response.text}\"\n",
        "\n",
        "def communication_agent(state: MultiAgentState) -> Command[Literal[\"supervisor_agent\"]]:\n",
        "    \"\"\"Agent that notifies the team via Slack\"\"\"\n",
        "\n",
        "    context = state.get(\"task_context\", {})\n",
        "    report = context.get(\"generated_report\", \"\")\n",
        "\n",
        "    prompt = ChatPromptTemplate.from_template(\"\"\"\n",
        "    Summarize the content of the following report for team communication:\n",
        "    {report}\n",
        "    \"\"\")\n",
        "\n",
        "    chain = prompt | llm\n",
        "    result = chain.invoke({\"report\": report})\n",
        "    message = result.content.strip()\n",
        "\n",
        "    slack_result = send_notification({\"message\": message})\n",
        "\n",
        "    updated_context = context.copy()\n",
        "    updated_context[\"notified\"] = True\n",
        "\n",
        "    return Command(\n",
        "        goto=\"supervisor_agent\",\n",
        "        update={\n",
        "            \"task_context\": updated_context,\n",
        "            \"messages\": [AIMessage(content=f\"Communication Agent:\\n{message}\\n\\n{slack_result}\")],\n",
        "            \"current_agent\": \"supervisor_agent\"\n",
        "        }\n",
        "    )\n"
      ],
      "metadata": {
        "id": "ZdxUqAy2zbKH"
      },
      "execution_count": 28,
      "outputs": []
    },
    {
      "cell_type": "markdown",
      "source": [
        "**Creating Multi-Agent Workflow**"
      ],
      "metadata": {
        "id": "8mM-5uLTM8pl"
      }
    },
    {
      "cell_type": "code",
      "source": [
        "def create_multi_agent_workflow():\n",
        "    \"\"\"Create multi-agent system with Command-based handoffs\"\"\"\n",
        "\n",
        "    workflow = StateGraph(MultiAgentState)\n",
        "\n",
        "    # Add agent nodes\n",
        "    workflow.add_node(\"supervisor_agent\", supervisor_agent)\n",
        "    workflow.add_node(\"research_agent\", research_agent)\n",
        "    workflow.add_node(\"report_agent\", report_agent)\n",
        "    workflow.add_node(\"communication_agent\", communication_agent)\n",
        "\n",
        "    # Only entry point needed - Command handles all routing!\n",
        "    workflow.add_edge(START, \"supervisor_agent\")\n",
        "\n",
        "    return workflow.compile()\n",
        "\n",
        "multi_agent_app = create_multi_agent_workflow()\n",
        "print(\"✅ Multi-agent workflow with Command handoffs created!\")"
      ],
      "metadata": {
        "id": "VTop9x8MM90k",
        "colab": {
          "base_uri": "https://localhost:8080/"
        },
        "outputId": "88d10c4f-1bc5-4c9d-a8dc-8e661393c420"
      },
      "execution_count": 29,
      "outputs": [
        {
          "output_type": "stream",
          "name": "stdout",
          "text": [
            "✅ Multi-agent workflow with Command handoffs created!\n"
          ]
        }
      ]
    },
    {
      "cell_type": "code",
      "source": [
        "from IPython.display import Image, display\n",
        "\n",
        "display(Image(multi_agent_app.get_graph().draw_mermaid_png()))"
      ],
      "metadata": {
        "colab": {
          "base_uri": "https://localhost:8080/",
          "height": 266
        },
        "id": "v3tdxZfcU6jX",
        "outputId": "11377ec5-dd73-4f76-a308-c87bbc4fceb5"
      },
      "execution_count": 30,
      "outputs": [
        {
          "output_type": "display_data",
          "data": {
            "image/png": "[encoded data removed]",
            "text/plain": [
              "<IPython.core.display.Image object>"
            ]
          },
          "metadata": {}
        }
      ]
    },
    {
      "cell_type": "markdown",
      "source": [
        "**Testing Multi-Agent Handoffs**"
      ],
      "metadata": {
        "id": "Pfy_QhZoNCo5"
      }
    },
    {
      "cell_type": "code",
      "source": [
        "# Test multi-agent handoffs\n",
        "print(\"🤖 Testing Multi-Agent Handoffs\")\n",
        "print(\"=\" * 60)\n",
        "\n",
        "user_request = \"Research the latest trends in AI and create a report, then send it to the team\"\n",
        "\n",
        "try:\n",
        "    result = multi_agent_app.invoke({\n",
        "        \"user_request\": user_request,\n",
        "        \"messages\": [HumanMessage(content=user_request)]\n",
        "    })\n",
        "\n",
        "    print(\"🔄 Agent Handoff Chain:\")\n",
        "    for i, handoff in enumerate(result[\"agent_handoffs\"], 1):\n",
        "        print(f\"{i}. {handoff['from_agent']} → {handoff['to_agent']}: {handoff['reason']}\")\n",
        "\n",
        "    print(f\"\\n🎯 Final Agent: {result['current_agent']}\")\n",
        "    print(f\"📋 Task Context Keys: {list(result['task_context'].keys())}\")\n",
        "\n",
        "    print(\"\\n💬 Agent Messages:\")\n",
        "    for msg in result[\"messages\"]:\n",
        "        if isinstance(msg, AIMessage):\n",
        "            print(f\"  • {msg.content}\")\n",
        "\n",
        "    print(f\"\\n✅ Final Response: {result.get('final_response', 'No final response')[:200]}...\")\n",
        "\n",
        "except Exception as e:\n",
        "    print(f\"❌ Error: {e}\")"
      ],
      "metadata": {
        "id": "9XuBzjEjND8f",
        "colab": {
          "base_uri": "https://localhost:8080/"
        },
        "outputId": "26be0429-2446-4d4a-a875-e0bd2976515c"
      },
      "execution_count": 31,
      "outputs": [
        {
          "output_type": "stream",
          "name": "stdout",
          "text": [
            "🤖 Testing Multi-Agent Handoffs\n",
            "============================================================\n"
          ]
        },
        {
          "output_type": "stream",
          "name": "stderr",
          "text": [
            "WARNING:langgraph:Task supervisor_agent with path ('__pregel_pull', 'supervisor_agent') wrote to unknown channel branch:to:__end__, ignoring it.\n"
          ]
        },
        {
          "output_type": "stream",
          "name": "stdout",
          "text": [
            "🔄 Agent Handoff Chain:\n",
            "1. supervisor → research_agent: LLM routed to research_agent\n",
            "2. supervisor → report_agent: LLM routed to report_agent\n",
            "3. supervisor → communication_agent: LLM routed to communication_agent\n",
            "\n",
            "🎯 Final Agent: completed\n",
            "📋 Task Context Keys: ['research_findings', 'generated_report', 'notified']\n",
            "\n",
            "💬 Agent Messages:\n",
            "  • Supervisor: LLM routed to research_agent\n",
            "  • Research Agent:\n",
            "### Report on Latest Trends in AI\n",
            "\n",
            "#### 1. **Generative AI**\n",
            "   - **Overview**: Generative AI has gained significant traction, particularly with models like OpenAI's GPT-4 and DALL-E, which can create text, images, and even music.\n",
            "   - **Applications**: Content creation, design, and personalized marketing are key areas where generative AI is being utilized.\n",
            "   - **Trends**: Increased focus on ethical considerations and bias mitigation in generative models.\n",
            "\n",
            "#### 2. **AI in Healthcare**\n",
            "   - **Overview**: AI is transforming healthcare through predictive analytics, personalized medicine, and diagnostic tools.\n",
            "   - **Applications**: AI algorithms are being used for early disease detection, treatment recommendations, and patient management.\n",
            "   - **Trends**: Integration of AI with telemedicine and wearable devices for real-time health monitoring.\n",
            "\n",
            "#### 3. **Natural Language Processing (NLP) Advancements**\n",
            "   - **Overview**: NLP technologies are becoming more sophisticated, enabling better understanding and generation of human language.\n",
            "   - **Applications**: Chatbots, virtual assistants, and sentiment analysis tools are increasingly common in customer service and market research.\n",
            "   - **Trends**: Focus on multilingual capabilities and contextual understanding to improve user interactions.\n",
            "\n",
            "#### 4. **AI Ethics and Regulation**\n",
            "   - **Overview**: As AI technologies proliferate, there is a growing emphasis on ethical AI development and regulatory frameworks.\n",
            "   - **Applications**: Companies are adopting ethical guidelines and transparency measures to build trust with users.\n",
            "   - **Trends**: Governments and organizations are working on policies to ensure responsible AI use, addressing issues like data privacy and algorithmic bias.\n",
            "\n",
            "#### 5. **AI and Automation in Business**\n",
            "   - **Overview**: Businesses are increasingly leveraging AI for automation to enhance efficiency and reduce costs.\n",
            "   - **Applications**: Robotic process automation (RPA) and AI-driven analytics are streamlining operations across various sectors.\n",
            "   - **Trends**: A shift towards hybrid models where human workers collaborate with AI systems.\n",
            "\n",
            "#### 6. **AI in Cybersecurity**\n",
            "   - **Overview**: AI is playing a crucial role in enhancing cybersecurity measures by identifying threats and automating responses.\n",
            "   - **Applications**: AI-driven security systems can detect anomalies and respond to potential breaches in real-time.\n",
            "   - **Trends**: Increased investment in AI tools for proactive threat detection and incident response.\n",
            "\n",
            "#### 7. **Edge AI**\n",
            "   - **Overview**: Edge AI refers to processing data on local devices rather than relying on centralized cloud servers.\n",
            "   - **Applications**: This trend is particularly relevant for IoT devices, enabling faster processing and reduced latency.\n",
            "   - **Trends**: Growth in applications for smart cities, autonomous vehicles, and real-time analytics.\n",
            "\n",
            "### Conclusion\n",
            "The landscape of AI is rapidly evolving, with significant advancements in generative AI, healthcare applications, NLP, ethical considerations, business automation, cybersecurity, and edge computing. Organizations are encouraged to stay informed about these trends to leverage AI effectively and responsibly.\n",
            "\n",
            "### Next Steps\n",
            "- Share this report with the team for further discussion and exploration of potential applications within our projects.\n",
            "- Consider organizing a meeting to brainstorm how we can integrate these trends into our strategies.\n",
            "\n",
            "---\n",
            "\n",
            "This summary encapsulates the latest trends in AI as of October 2023. Please let me know if you need further details or specific insights on any of the topics mentioned.\n",
            "  • Supervisor: LLM routed to report_agent\n",
            "  • Report Agent:\n",
            "# Report on Latest Trends in AI\n",
            "\n",
            "## 1. Generative AI\n",
            "- **Overview**: Generative AI has gained significant traction, particularly with models like OpenAI's GPT-4 and DALL-E, which can create text, images, and even music.\n",
            "- **Applications**: Key areas of utilization include content creation, design, and personalized marketing.\n",
            "- **Trends**: There is an increased focus on ethical considerations and bias mitigation in generative models.\n",
            "\n",
            "## 2. AI in Healthcare\n",
            "- **Overview**: AI is transforming heal...\n",
            "  • Supervisor: LLM routed to communication_agent\n",
            "  • Communication Agent:\n",
            "### Summary of Report on Latest Trends in AI\n",
            "\n",
            "The report highlights key trends in artificial intelligence (AI) as of October 2023, focusing on several critical areas:\n",
            "\n",
            "1. **Generative AI**: Models like GPT-4 and DALL-E are revolutionizing content creation across text, images, and music. There is a growing emphasis on ethical considerations and bias mitigation.\n",
            "\n",
            "2. **AI in Healthcare**: AI is enhancing healthcare through predictive analytics and personalized medicine, aiding in early disease detection and patient management. The integration with telemedicine and wearables is improving real-time health monitoring.\n",
            "\n",
            "3. **Natural Language Processing (NLP)**: Advances in NLP are leading to better human language understanding, with applications in chatbots and sentiment analysis. There is a focus on multilingual capabilities and contextual understanding.\n",
            "\n",
            "4. **AI Ethics and Regulation**: As AI technologies expand, ethical development and regulatory frameworks are becoming crucial. Companies are adopting guidelines to ensure transparency and trust, while governments are addressing data privacy and algorithmic bias.\n",
            "\n",
            "5. **AI and Automation in Business**: Businesses are increasingly using AI for automation, enhancing efficiency and reducing costs. Hybrid models are emerging where human workers collaborate with AI systems.\n",
            "\n",
            "6. **AI in Cybersecurity**: AI is vital for improving cybersecurity by detecting threats and automating responses. There is a trend towards investing in AI tools for proactive threat detection.\n",
            "\n",
            "7. **Edge AI**: This involves processing data on local devices, which is particularly beneficial for IoT applications, leading to faster processing and reduced latency. Growth is expected in smart cities and autonomous vehicles.\n",
            "\n",
            "### Conclusion\n",
            "The AI landscape is rapidly evolving, with significant advancements across various sectors. Organizations are encouraged to stay informed about these trends to leverage AI effectively and responsibly.\n",
            "\n",
            "### Next Steps\n",
            "- Share this report with the team for further discussion on potential applications in our projects.\n",
            "- Consider organizing a meeting to brainstorm how to integrate these trends into our strategies.\n",
            "\n",
            "Please let me know if you need more details on any specific topic.\n",
            "\n",
            "✅ Slack message sent\n",
            "  • Supervisor: LLM decided the task is complete\n",
            "\n",
            "✅ Final Response: No final response...\n"
          ]
        }
      ]
    },
    {
      "cell_type": "markdown",
      "source": [
        "## Conclusion: Command-Based Routing for Flexible Agent Handoffs\n",
        "By leveraging the **Command** object in LangGraph, we enabled a clean and dynamic control flow between agents without hardcoding the graph structure. Each agent returns a Command that:\n",
        "- Specifies the **next node to route to** (goto)\n",
        "- **Updates the shared state**, such as messages, results, or context\n",
        "- Optionally ends the workflow by routing to END\n",
        "\n",
        "This pattern unlocks several benefits:\n",
        "- **Centralized control, distributed logic:** Agents focus only on their task, while supervisor_agent handles routing based on updated state.\n",
        "- **Dynamic branching:** Agents can adapt to intermediate outcomes, enabling retry loops, validations, or conditional rerouting.\n",
        "- **Simplified graph definitions:** Since routing is returned from the nodes themselves, the static edges in the graph can remain minimal and generic.\n",
        "- **Improved debuggability and transparency:** Agent handoffs are logged explicitly via the state, making workflows easy to audit and test.\n",
        "\n",
        "Using Command transforms LangGraph from a static DAG engine into a **truly dynamic agent workflow coordinator** — ideal for LLM-based systems where execution paths evolve as the task progresses.\n",
        "\n",
        "---\n",
        "\n",
        "### Useful Resources:\n",
        "\n",
        "- 🔗 [LangGraph Docs](https://langchain-ai.github.io/langgraph/)\n",
        "- 🔗 [LangChain Docs](https://docs.langchain.com/)\n",
        "- 🔗 [OpenAI Python SDK](https://github.com/openai/openai-python)\n",
        "\n",
        "---\n",
        "\n",
        "🤝 **Thanks for following along — happy building with LangGraph!**"
      ],
      "metadata": {
        "id": "rzOlM5Ja44AR"
      }
    }
  ]
}